{
 "cells": [
  {
   "cell_type": "markdown",
   "id": "7ddb4776",
   "metadata": {},
   "source": [
    "!pip install transformers\n",
    "!pip install -U sentence-transformers\n",
    "!pip install sklearn\n",
    "!pip install gradio"
   ]
  },
  {
   "cell_type": "code",
   "execution_count": 1,
   "id": "fb2bdeb7",
   "metadata": {},
   "outputs": [],
   "source": [
    "from transformers import pipeline\n",
    "from sentence_transformers import SentenceTransformer\n",
    "from sklearn.metrics.pairwise import cosine_similarity\n",
    "import gradio as gr"
   ]
  },
  {
   "cell_type": "code",
   "execution_count": 2,
   "id": "baace90a",
   "metadata": {},
   "outputs": [],
   "source": [
    "model_checkpoint = \"ShynBui/bert-finetuned-squad\"\n",
    "question_answerer = pipeline(\"question-answering\", model=model_checkpoint)"
   ]
  },
  {
   "cell_type": "code",
   "execution_count": 3,
   "id": "e7c8bdca",
   "metadata": {},
   "outputs": [],
   "source": [
    "model_multiple = SentenceTransformer('sentence-transformers/bert-base-nli-mean-tokens')"
   ]
  },
  {
   "cell_type": "code",
   "execution_count": 4,
   "id": "408c9715",
   "metadata": {},
   "outputs": [],
   "source": [
    "def predict(context, question, answer0, answer1, answer2, answer3):\n",
    "    answers = [answer0, answer1, answer2, answer3]\n",
    "    key = question_answerer(question = question, context = context)['answer']\n",
    "    \n",
    "    embedding_answer = model_multiple.encode(answers)\n",
    "    embedding_key = model_multiple.encode(key)\n",
    "    \n",
    "    result = cosine_similarity(\n",
    "        [embedding_key],\n",
    "         embedding_answer\n",
    "    )\n",
    "    \n",
    "    index = 0\n",
    "    max = -999\n",
    "\n",
    "    for i in range(len(answers)):\n",
    "        if (result[0][i] > max):\n",
    "            max = result[0][i]\n",
    "            index = i\n",
    "    \n",
    "    return chr(ord('A') + index) + \". \" + answers[index]\n",
    "    "
   ]
  },
  {
   "cell_type": "code",
   "execution_count": 5,
   "id": "e62f56b9",
   "metadata": {},
   "outputs": [
    {
     "name": "stdout",
     "output_type": "stream",
     "text": [
      "Running on local URL:  http://127.0.0.1:7860\n",
      "\n",
      "To create a public link, set `share=True` in `launch()`.\n"
     ]
    },
    {
     "data": {
      "text/html": [
       "<div><iframe src=\"http://127.0.0.1:7860/\" width=\"100%\" height=\"500\" allow=\"autoplay; camera; microphone; clipboard-read; clipboard-write;\" frameborder=\"0\" allowfullscreen></iframe></div>"
      ],
      "text/plain": [
       "<IPython.core.display.HTML object>"
      ]
     },
     "metadata": {},
     "output_type": "display_data"
    },
    {
     "data": {
      "text/plain": []
     },
     "execution_count": 5,
     "metadata": {},
     "output_type": "execute_result"
    }
   ],
   "source": [
    "context = ''\n",
    "question = ''\n",
    "answers = []\n",
    "\n",
    "context = gr.Textbox(label=\"Type your context:\", lines=10)\n",
    "question = gr.Textbox(label=\"Type your question:\", lines=1)\n",
    "answers.append(gr.Textbox(label=\"Type your A answer:\", lines=1))\n",
    "answers.append(gr.Textbox(label=\"Type your B answer:\", lines=1))\n",
    "answers.append(gr.Textbox(label=\"Type your C answer:\", lines=1))\n",
    "answers.append(gr.Textbox(label=\"Type your D answer:\", lines=1))\n",
    "\n",
    "gr.Interface(fn=predict, inputs=[context, \n",
    "                                 question, \n",
    "                                 answers[0],answers[1],answers[2],answers[3]],\n",
    "                                 outputs=\"text\").launch()"
   ]
  },
  {
   "cell_type": "code",
   "execution_count": null,
   "id": "191d4224",
   "metadata": {},
   "outputs": [],
   "source": []
  }
 ],
 "metadata": {
  "kernelspec": {
   "display_name": "Python 3 (ipykernel)",
   "language": "python",
   "name": "python3"
  },
  "language_info": {
   "codemirror_mode": {
    "name": "ipython",
    "version": 3
   },
   "file_extension": ".py",
   "mimetype": "text/x-python",
   "name": "python",
   "nbconvert_exporter": "python",
   "pygments_lexer": "ipython3",
   "version": "3.9.13"
  }
 },
 "nbformat": 4,
 "nbformat_minor": 5
}
